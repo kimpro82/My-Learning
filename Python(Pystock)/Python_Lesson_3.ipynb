{
 "cells": [
  {
   "cell_type": "markdown",
   "metadata": {},
   "source": [
    "# 2018-11-25 (3주차)"
   ]
  },
  {
   "cell_type": "markdown",
   "metadata": {},
   "source": [
    "# 1. 연습문제"
   ]
  },
  {
   "cell_type": "code",
   "execution_count": 1,
   "metadata": {},
   "outputs": [],
   "source": [
    "# Q1. 딕셔너리\n",
    "\n",
    "Min_Quantity = {\"BTC\" : 0.001,\n",
    "                \"ETH\" : 0.01,\n",
    "                \"DASH\" : 0.01,\n",
    "                \"LTC\" : 0.01,\n",
    "                \"ETC\" : 0.1,\n",
    "                \"XRP\" : 10,\n",
    "                \"BCH\" : 0.001\n",
    "                }"
   ]
  },
  {
   "cell_type": "code",
   "execution_count": 2,
   "metadata": {},
   "outputs": [],
   "source": [
    "# Q2. 딕셔너리 인덱싱\n",
    "\n",
    "print(\"BTC\", Min_Quantity[\"BTC\"])\n",
    "print(\"ETH\", Min_Quantity[\"ETH\"])"
   ]
  },
  {
   "cell_type": "code",
   "execution_count": 3,
   "metadata": {},
   "outputs": [],
   "source": [
    "for m, n in Min_Quantity.items() :\n",
    "    print(m, n)"
   ]
  },
  {
   "cell_type": "code",
   "execution_count": 4,
   "metadata": {},
   "outputs": [],
   "source": [
    "# Q3. 공백제거\n",
    "\n",
    "mylist = ['  abc   ', '   def    ', ' kkk   ']\n",
    "\n",
    "for i in mylist :\n",
    "    print(i.strip())"
   ]
  },
  {
   "cell_type": "code",
   "execution_count": 5,
   "metadata": {},
   "outputs": [],
   "source": [
    "# Q4. datetime 모듈\n",
    "\n",
    "import datetime\n",
    "\n",
    "def get_current_time() :\n",
    "    now = datetime.datetime.now()\n",
    "    print(str(now)[1:19])\n",
    "    \n",
    "get_current_time()"
   ]
  },
  {
   "cell_type": "code",
   "execution_count": 6,
   "metadata": {},
   "outputs": [
    {
     "name": "stdout",
     "output_type": "stream",
     "text": [
      "2020-02-23 00:00:00\n"
     ]
    }
   ],
   "source": [
    "# Q5. datetime - 익일 00:00:00\n",
    "\n",
    "import datetime\n",
    "\n",
    "now = datetime.datetime.now()\n",
    "target_time = datetime.datetime(year=now.year, \n",
    "                                month=now.month,\n",
    "                                day=now.day+1, \n",
    "                                hour=0,\n",
    "                                minute=0,\n",
    "                                second=0)\n",
    "print(target_time)"
   ]
  },
  {
   "cell_type": "code",
   "execution_count": 7,
   "metadata": {},
   "outputs": [
    {
     "name": "stdout",
     "output_type": "stream",
     "text": [
      "6436000\n",
      "6404000\n"
     ]
    }
   ],
   "source": [
    "# Q6. 딕셔너리 인덱싱\n",
    "\n",
    "all = {'BTC': {'opening_price': '6436000',\n",
    "               'closing_price': '6404000',\n",
    "               'min_price': '6372000',\n",
    "               'max_price': '6455000',\n",
    "               'average_price': '6416495.9956',\n",
    "               'units_traded': '816.08087921',\n",
    "               'volume_1day': '816.08087921',\n",
    "               'volume_7day': '16413.04357476',\n",
    "               'buy_price': '6406000',\n",
    "               'sell_price': '6413000',\n",
    "               '24H_fluctate': '-32000',\n",
    "               '24H_fluctate_rate': '-0.49'}}\n",
    "\n",
    "print(all['BTC']['opening_price'])\n",
    "print(all['BTC']['closing_price'])"
   ]
  },
  {
   "cell_type": "code",
   "execution_count": 8,
   "metadata": {},
   "outputs": [
    {
     "name": "stdout",
     "output_type": "stream",
     "text": [
      "['BTC', 'XRP', 'LTC']\n"
     ]
    }
   ],
   "source": [
    "# Q7. 딕셔너리 Key값 대/소문자 변경\n",
    "\n",
    "tickers = ['btc', 'xrp', 'ltc']\n",
    "\n",
    "def change_tickers(tickers):\n",
    "    result = []\n",
    "    for i in tickers :\n",
    "        result.append(i.upper())\n",
    "    return result\n",
    "\n",
    "new_tickers = change_tickers(tickers)\n",
    "print(new_tickers)"
   ]
  },
  {
   "cell_type": "code",
   "execution_count": 9,
   "metadata": {},
   "outputs": [
    {
     "name": "stdout",
     "output_type": "stream",
     "text": [
      "{2014: 2, 2015: 1, 2013: 1, 2016: 1, 2018: 1, 2017: 2}\n"
     ]
    }
   ],
   "source": [
    "# Q8 딕셔너리\n",
    "\n",
    "production_year = [2014, 2015, 2014, 2013, 2016, 2018, 2017, 2017]\n",
    "\n",
    "count = {}\n",
    "for i in production_year :\n",
    "    if i in count.keys() :\n",
    "        count[i] += 1\n",
    "    else :\n",
    "        count[i] = 1\n",
    "\n",
    "print(count)"
   ]
  },
  {
   "cell_type": "code",
   "execution_count": 10,
   "metadata": {},
   "outputs": [
    {
     "data": {
      "text/plain": [
       "'https://finance.naver.com/item/main.nhn?code=000020'"
      ]
     },
     "execution_count": 10,
     "metadata": {},
     "output_type": "execute_result"
    }
   ],
   "source": [
    "# Q9\n",
    "\n",
    "def final_url(code) :\n",
    "    url = 'https://finance.naver.com/item/main.nhn?code='\n",
    "    return url + code\n",
    "    \n",
    "final_url('000020')\n",
    "\n",
    "# '000020'에서 ''를 빼면 SyntaxError : invalid token\n",
    "# 함수에 str()을 쓰고 000020(int)을 입력할 순 없을까\n",
    "# (앞에 0이 붙은) 000020 같은 형태의 숫자는 없다!"
   ]
  },
  {
   "cell_type": "code",
   "execution_count": 11,
   "metadata": {},
   "outputs": [
    {
     "data": {
      "text/plain": [
       "'기안84'"
      ]
     },
     "execution_count": 11,
     "metadata": {},
     "output_type": "execute_result"
    }
   ],
   "source": [
    "def concatenate(a, b) :\n",
    "    return a + str(b)\n",
    "\n",
    "concatenate('기안', 84)"
   ]
  },
  {
   "cell_type": "code",
   "execution_count": 12,
   "metadata": {},
   "outputs": [],
   "source": [
    "# 나머지 연습 문제는 각자 해보자!"
   ]
  },
  {
   "cell_type": "markdown",
   "metadata": {},
   "source": [
    "# 2. Class 1"
   ]
  },
  {
   "cell_type": "code",
   "execution_count": 13,
   "metadata": {},
   "outputs": [
    {
     "name": "stdout",
     "output_type": "stream",
     "text": [
      "93680112\n",
      "93680144\n"
     ]
    }
   ],
   "source": [
    "# 클래스 정의 및 객체 생성\n",
    "\n",
    "class MyClass :\n",
    "    pass\n",
    "\n",
    "obj1 = MyClass()\n",
    "obj2 = MyClass()\n",
    "\n",
    "print(id(obj1))\n",
    "print(id(obj2))\n",
    "# 관례적으로 사용자 정의 클래스는 대문자 사용"
   ]
  },
  {
   "cell_type": "code",
   "execution_count": 14,
   "metadata": {},
   "outputs": [
    {
     "name": "stdout",
     "output_type": "stream",
     "text": [
      "메서드 호출\n"
     ]
    }
   ],
   "source": [
    "# 메서드(method)\n",
    "\n",
    "class MyClass :\n",
    "    def foo(self) :\n",
    "        print(\"메서드 호출\")\n",
    "\n",
    "# 메서드의 첫번째 인자는 무조건 self\n",
    "\n",
    "a = MyClass()\n",
    "a.foo()"
   ]
  },
  {
   "cell_type": "code",
   "execution_count": 15,
   "metadata": {},
   "outputs": [
    {
     "name": "stdout",
     "output_type": "stream",
     "text": [
      "3\n",
      "4\n"
     ]
    }
   ],
   "source": [
    "# 인스턴스 변수\n",
    "\n",
    "class MyClass:\n",
    "    pass\n",
    "\n",
    "a = MyClass()\n",
    "b = MyClass()\n",
    "\n",
    "a.val = 3\n",
    "b.val = 4\n",
    "\n",
    "print(a.val)\n",
    "print(b.val)"
   ]
  },
  {
   "cell_type": "code",
   "execution_count": 16,
   "metadata": {},
   "outputs": [
    {
     "name": "stdout",
     "output_type": "stream",
     "text": [
      "계좌 생성\n",
      "계좌 생성\n"
     ]
    }
   ],
   "source": [
    "# 생성자\n",
    "\n",
    "class Customer :\n",
    "    def __init__(self):\n",
    "        print(\"계좌 생성\")\n",
    "\n",
    "kim = Customer()\n",
    "lee = Customer()"
   ]
  },
  {
   "cell_type": "code",
   "execution_count": 17,
   "metadata": {},
   "outputs": [
    {
     "name": "stdout",
     "output_type": "stream",
     "text": [
      "0\n",
      "0\n"
     ]
    }
   ],
   "source": [
    "class MyClass:\n",
    "    def __init__(self):\n",
    "        self.var = 0\n",
    "\n",
    "obj1 = MyClass()\n",
    "obj2 = MyClass()\n",
    "\n",
    "print(obj1.var)\n",
    "print(obj2.var)"
   ]
  },
  {
   "cell_type": "code",
   "execution_count": 18,
   "metadata": {},
   "outputs": [
    {
     "name": "stdout",
     "output_type": "stream",
     "text": [
      "100\n",
      "200\n"
     ]
    }
   ],
   "source": [
    "class Customer :\n",
    "    def __init__(self, balance) :\n",
    "        self.balance = balance\n",
    "\n",
    "kim = Customer(100)\n",
    "lee = Customer(200)\n",
    "\n",
    "print(kim.balance)\n",
    "print(lee.balance)"
   ]
  },
  {
   "cell_type": "code",
   "execution_count": 19,
   "metadata": {},
   "outputs": [],
   "source": [
    "# 점(.)의 의미\n",
    "# 속성 참조 순서 : 인스턴스 - 클래스 - 부모 클래스 "
   ]
  },
  {
   "cell_type": "code",
   "execution_count": 20,
   "metadata": {},
   "outputs": [
    {
     "name": "stdout",
     "output_type": "stream",
     "text": [
      "김아무개 1000\n",
      "김아무개 2000\n"
     ]
    }
   ],
   "source": [
    "# 연습문제\n",
    "\n",
    "class Customer :\n",
    "    def __init__(self, name, balance) :\n",
    "        self.name = name\n",
    "        self.balance = balance\n",
    "\n",
    "    def deposit(self, money) :\n",
    "        self.balance = self.balance + money\n",
    "\n",
    "    def withdraw(self, money) :\n",
    "        self.balance = self.balance - money\n",
    "    \n",
    "\n",
    "kim = Customer('김아무개',1000)\n",
    "print(kim.name, kim.balance)\n",
    "\n",
    "kim.deposit(1000)\n",
    "print(kim.name, kim.balance)"
   ]
  },
  {
   "cell_type": "markdown",
   "metadata": {},
   "source": [
    "# 3. Class 3"
   ]
  },
  {
   "cell_type": "code",
   "execution_count": 21,
   "metadata": {},
   "outputs": [],
   "source": [
    "# What is the self ?\n",
    "\n",
    "# self는 메서드의 첫번째 인자로 사용됨 \n",
    "# self는 메서드를 호출한 객체를 바인딩하는 변수"
   ]
  },
  {
   "cell_type": "code",
   "execution_count": 22,
   "metadata": {},
   "outputs": [],
   "source": [
    "class MyClass :\n",
    "    def my_method(self) :\n",
    "        print(\"메서드호출 : \", self)"
   ]
  },
  {
   "cell_type": "code",
   "execution_count": 23,
   "metadata": {},
   "outputs": [
    {
     "name": "stdout",
     "output_type": "stream",
     "text": [
      "메서드호출 :  <__main__.MyClass object at 0x059442B0>\n"
     ]
    }
   ],
   "source": [
    "obj1 = MyClass()\n",
    "obj1.my_method()       # self는 obj1"
   ]
  },
  {
   "cell_type": "code",
   "execution_count": 24,
   "metadata": {},
   "outputs": [
    {
     "data": {
      "text/plain": [
       "93602480"
      ]
     },
     "execution_count": 24,
     "metadata": {},
     "output_type": "execute_result"
    }
   ],
   "source": [
    "id(obj1)"
   ]
  },
  {
   "cell_type": "code",
   "execution_count": 25,
   "metadata": {},
   "outputs": [],
   "source": [
    "class 붕어빵틀 :\n",
    "    def 팥소넣기(self, 팥소) :\n",
    "        self.팥소 = 팥소\n",
    "        \n",
    "붕어빵1 = 붕어빵틀()\n",
    "붕어빵2 = 붕어빵틀()"
   ]
  },
  {
   "cell_type": "code",
   "execution_count": 26,
   "metadata": {},
   "outputs": [],
   "source": [
    "# 메서드 호출\n",
    "붕어빵틀.팥소넣기(붕어빵1, \"초코맛팥소\")\n",
    "붕어빵틀.팥소넣기(붕어빵2, \"딸기맛팥소\")"
   ]
  },
  {
   "cell_type": "code",
   "execution_count": 27,
   "metadata": {},
   "outputs": [
    {
     "name": "stdout",
     "output_type": "stream",
     "text": [
      "초코맛팥소\n",
      "딸기맛팥소\n"
     ]
    }
   ],
   "source": [
    "# 붕어빵 맛 확인하기\n",
    "print(붕어빵1.팥소)\n",
    "print(붕어빵2.팥소)"
   ]
  },
  {
   "cell_type": "code",
   "execution_count": 28,
   "metadata": {},
   "outputs": [],
   "source": [
    "# 클래스.메서드(객체, 데이터) 와 객체.메서드(데이터)는 같은 표현임."
   ]
  },
  {
   "cell_type": "code",
   "execution_count": 29,
   "metadata": {},
   "outputs": [
    {
     "name": "stdout",
     "output_type": "stream",
     "text": [
      "kim\n",
      "기본값\n"
     ]
    }
   ],
   "source": [
    "# 객체 참조 순서\n",
    "\n",
    "class Customer:\n",
    "    name = \"기본값\" # 모든 객체가 참조해야 하는 값은 여기에 저장\n",
    "\n",
    "# 그러나 이렇게 쓸 일은 잘 없다. self를 잘 이해하지 못 한 경우\n",
    "\n",
    "a = Customer()\n",
    "a.name = \"kim\"\n",
    "\n",
    "b = Customer()\n",
    "\n",
    "print(a.name) # \"kim\"\n",
    "print(b.name) # \"기본값\""
   ]
  },
  {
   "cell_type": "code",
   "execution_count": 30,
   "metadata": {},
   "outputs": [
    {
     "ename": "AttributeError",
     "evalue": "'Customer' object has no attribute 'name2'",
     "output_type": "error",
     "traceback": [
      "\u001b[1;31m---------------------------------------------------------------------------\u001b[0m",
      "\u001b[1;31mAttributeError\u001b[0m                            Traceback (most recent call last)",
      "\u001b[1;32m<ipython-input-30-49a9bf35ce56>\u001b[0m in \u001b[0;36m<module>\u001b[1;34m\u001b[0m\n\u001b[0;32m      6\u001b[0m \u001b[1;33m\u001b[0m\u001b[0m\n\u001b[0;32m      7\u001b[0m \u001b[0mc\u001b[0m \u001b[1;33m=\u001b[0m \u001b[0mCustomer\u001b[0m\u001b[1;33m(\u001b[0m\u001b[1;34m\"kim\"\u001b[0m\u001b[1;33m)\u001b[0m\u001b[1;33m\u001b[0m\u001b[1;33m\u001b[0m\u001b[0m\n\u001b[1;32m----> 8\u001b[1;33m \u001b[0mprint\u001b[0m\u001b[1;33m(\u001b[0m\u001b[0mc\u001b[0m\u001b[1;33m.\u001b[0m\u001b[0mname2\u001b[0m\u001b[1;33m)\u001b[0m  \u001b[1;31m# AttributeError : has no 'name2'\u001b[0m\u001b[1;33m\u001b[0m\u001b[1;33m\u001b[0m\u001b[0m\n\u001b[0m",
      "\u001b[1;31mAttributeError\u001b[0m: 'Customer' object has no attribute 'name2'"
     ]
    }
   ],
   "source": [
    "# self가 없다면\n",
    "\n",
    "class Customer:\n",
    "    def __init__(self, name):\n",
    "        name2 = name\n",
    "\n",
    "c = Customer(\"kim\")\n",
    "print(c.name2)  # AttributeError : has no 'name2'"
   ]
  },
  {
   "cell_type": "code",
   "execution_count": 31,
   "metadata": {},
   "outputs": [
    {
     "name": "stdout",
     "output_type": "stream",
     "text": [
      "김아무개 A+ 철학과 990\n",
      "김누구 A+ 철학과 990\n"
     ]
    }
   ],
   "source": [
    "# 연습문제 1\n",
    "\n",
    "class Student :\n",
    "    def __init__(self, name, grade, major, toeic):\n",
    "        self.name = name\n",
    "        self.grade = grade\n",
    "        self.major = major\n",
    "        self.toeic = toeic\n",
    "\n",
    "    def set_name(self, name) :\n",
    "        self.name = name\n",
    "\n",
    "    def set_grade(self, grade) :\n",
    "        self.grade = grade\n",
    "\n",
    "    def set_major(self, major) :\n",
    "        self.major = major\n",
    "\n",
    "    def set_toeic(self, toeic) :\n",
    "        self.toeic = toeic\n",
    "\n",
    "kim = Student(\"김아무개\",\"A+\",\"철학과\",\"990\")\n",
    "print(kim.name, kim.grade, kim.major, kim.toeic)\n",
    "\n",
    "kim.set_name(\"김누구\")\n",
    "print(kim.name, kim.grade, kim.major, kim.toeic)"
   ]
  },
  {
   "cell_type": "markdown",
   "metadata": {},
   "source": [
    "# 상속(inheritance)"
   ]
  },
  {
   "cell_type": "code",
   "execution_count": 32,
   "metadata": {},
   "outputs": [
    {
     "name": "stdout",
     "output_type": "stream",
     "text": [
      "sing a song\n"
     ]
    }
   ],
   "source": [
    "# Parent에게 sing method가 있다\n",
    "\n",
    "class Parent:\n",
    "    def sing(self):\n",
    "        print(\"sing a song\")\n",
    "\n",
    "class LuckyChild(Parent):\n",
    "    pass\n",
    "\n",
    "luckyboy = LuckyChild()\n",
    "luckyboy.sing()"
   ]
  },
  {
   "cell_type": "code",
   "execution_count": 33,
   "metadata": {},
   "outputs": [
    {
     "ename": "AttributeError",
     "evalue": "'UnLuckyChild' object has no attribute 'sing'",
     "output_type": "error",
     "traceback": [
      "\u001b[1;31m---------------------------------------------------------------------------\u001b[0m",
      "\u001b[1;31mAttributeError\u001b[0m                            Traceback (most recent call last)",
      "\u001b[1;32m<ipython-input-33-649c6144fd9c>\u001b[0m in \u001b[0;36m<module>\u001b[1;34m\u001b[0m\n\u001b[0;32m      5\u001b[0m \u001b[1;33m\u001b[0m\u001b[0m\n\u001b[0;32m      6\u001b[0m \u001b[0munluckyboy\u001b[0m \u001b[1;33m=\u001b[0m \u001b[0mUnLuckyChild\u001b[0m\u001b[1;33m(\u001b[0m\u001b[1;33m)\u001b[0m\u001b[1;33m\u001b[0m\u001b[1;33m\u001b[0m\u001b[0m\n\u001b[1;32m----> 7\u001b[1;33m \u001b[0munluckyboy\u001b[0m\u001b[1;33m.\u001b[0m\u001b[0msing\u001b[0m\u001b[1;33m(\u001b[0m\u001b[1;33m)\u001b[0m\u001b[1;33m\u001b[0m\u001b[1;33m\u001b[0m\u001b[0m\n\u001b[0m",
      "\u001b[1;31mAttributeError\u001b[0m: 'UnLuckyChild' object has no attribute 'sing'"
     ]
    }
   ],
   "source": [
    "# Parent에게 sing method가 없다\n",
    "\n",
    "class UnLuckyChild:\n",
    "    pass\n",
    "\n",
    "unluckyboy = UnLuckyChild()\n",
    "unluckyboy.sing()"
   ]
  },
  {
   "cell_type": "code",
   "execution_count": 34,
   "metadata": {},
   "outputs": [
    {
     "name": "stdout",
     "output_type": "stream",
     "text": [
      "sing a song\n",
      "shuffle dance\n"
     ]
    }
   ],
   "source": [
    "# 좋은 케이스 : 노래 실력은 물려받았고 춤은 노력으로 습득\n",
    "\n",
    "class Parent:\n",
    "    def sing(self):\n",
    "        print(\"sing a song\")\n",
    "\n",
    "class LuckyChild(Parent):\n",
    "    def dance(self):\n",
    "        print(\"shuffle dance\")\n",
    "\n",
    "luckyboy = LuckyChild()\n",
    "luckyboy.sing()\n",
    "luckyboy.dance()"
   ]
  },
  {
   "cell_type": "code",
   "execution_count": 35,
   "metadata": {},
   "outputs": [],
   "source": [
    "# 다음주에는 data scrapping & pandas(dataframe)"
   ]
  }
 ],
 "metadata": {
  "kernelspec": {
   "display_name": "Python 3",
   "language": "python",
   "name": "python3"
  },
  "language_info": {
   "codemirror_mode": {
    "name": "ipython",
    "version": 3
   },
   "file_extension": ".py",
   "mimetype": "text/x-python",
   "name": "python",
   "nbconvert_exporter": "python",
   "pygments_lexer": "ipython3",
   "version": "3.7.4"
  }
 },
 "nbformat": 4,
 "nbformat_minor": 2
}
