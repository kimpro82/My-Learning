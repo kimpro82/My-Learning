{
 "cells": [
  {
   "cell_type": "markdown",
   "metadata": {},
   "source": [
    "# IF문"
   ]
  },
  {
   "cell_type": "code",
   "execution_count": 1,
   "metadata": {},
   "outputs": [
    {
     "name": "stdout",
     "output_type": "stream",
     "text": [
      "리플\n"
     ]
    }
   ],
   "source": [
    "# IF / ELIF / ELSE\n",
    "\n",
    "currency = 'xrp_krw'\n",
    "\n",
    "if currency == \"btc_krw\":\n",
    "    print(\"비트코인\")\n",
    "elif currency == \"bch_krw\":\n",
    "    print(\"비트코인 캐시\")\n",
    "elif currency == \"btg_krw\":\n",
    "    print(\"비트코인 골드\")\n",
    "elif currency == \"eth_krw\":\n",
    "    print(\"이더리움\")\n",
    "elif currency == \"xrp_krw\":\n",
    "    print(\"리플\")\n",
    "else :\n",
    "    print(\"해당화폐\")"
   ]
  },
  {
   "cell_type": "code",
   "execution_count": 2,
   "metadata": {},
   "outputs": [
    {
     "name": "stdout",
     "output_type": "stream",
     "text": [
      "나이를 입력하세요 : 5\n",
      "5\n"
     ]
    }
   ],
   "source": [
    "# INPUT\n",
    "\n",
    "age = input(\"나이를 입력하세요 : \")\n",
    "print(age)"
   ]
  },
  {
   "cell_type": "code",
   "execution_count": 3,
   "metadata": {},
   "outputs": [
    {
     "name": "stdout",
     "output_type": "stream",
     "text": [
      "입력: 20\n",
      "10보다 크다\n"
     ]
    }
   ],
   "source": [
    "# 연습문제 1\n",
    "\n",
    "num = input(\"입력: \")\n",
    "num = int(num)\n",
    "if num > 10 :\n",
    "    print(\"10보다 크다\")\n",
    "else :\n",
    "    print(\"10보다 크지 않다\")"
   ]
  },
  {
   "cell_type": "markdown",
   "metadata": {},
   "source": [
    "# FOR문"
   ]
  },
  {
   "cell_type": "code",
   "execution_count": 4,
   "metadata": {},
   "outputs": [
    {
     "name": "stdout",
     "output_type": "stream",
     "text": [
      "720\n",
      "710\n",
      "580\n",
      "600\n",
      "620\n"
     ]
    }
   ],
   "source": [
    "bitcoin = [720, 710, 580, 600, 620]\n",
    "\n",
    "for i in bitcoin :\n",
    "    print(i)"
   ]
  },
  {
   "cell_type": "code",
   "execution_count": 5,
   "metadata": {},
   "outputs": [
    {
     "ename": "IndexError",
     "evalue": "list index out of range",
     "output_type": "error",
     "traceback": [
      "\u001b[1;31m---------------------------------------------------------------------------\u001b[0m",
      "\u001b[1;31mIndexError\u001b[0m                                Traceback (most recent call last)",
      "\u001b[1;32m<ipython-input-5-58f6692c3f3b>\u001b[0m in \u001b[0;36m<module>\u001b[1;34m\u001b[0m\n\u001b[0;32m      1\u001b[0m \u001b[0mbitcoin\u001b[0m \u001b[1;33m=\u001b[0m \u001b[1;33m[\u001b[0m\u001b[1;36m720\u001b[0m\u001b[1;33m,\u001b[0m \u001b[1;36m710\u001b[0m\u001b[1;33m,\u001b[0m \u001b[1;36m580\u001b[0m\u001b[1;33m,\u001b[0m \u001b[1;36m600\u001b[0m\u001b[1;33m,\u001b[0m \u001b[1;36m620\u001b[0m\u001b[1;33m]\u001b[0m\u001b[1;33m\u001b[0m\u001b[1;33m\u001b[0m\u001b[0m\n\u001b[0;32m      2\u001b[0m \u001b[1;32mfor\u001b[0m \u001b[0mi\u001b[0m \u001b[1;32min\u001b[0m \u001b[0mbitcoin\u001b[0m \u001b[1;33m:\u001b[0m\u001b[1;33m\u001b[0m\u001b[1;33m\u001b[0m\u001b[0m\n\u001b[1;32m----> 3\u001b[1;33m     \u001b[0mprint\u001b[0m\u001b[1;33m(\u001b[0m\u001b[0mbitcoin\u001b[0m\u001b[1;33m[\u001b[0m\u001b[0mi\u001b[0m\u001b[1;33m]\u001b[0m\u001b[1;33m)\u001b[0m\u001b[1;33m\u001b[0m\u001b[1;33m\u001b[0m\u001b[0m\n\u001b[0m",
      "\u001b[1;31mIndexError\u001b[0m: list index out of range"
     ]
    }
   ],
   "source": [
    "bitcoin = [720, 710, 580, 600, 620]\n",
    "for i in bitcoin :\n",
    "    print(bitcoin[i])"
   ]
  },
  {
   "cell_type": "code",
   "execution_count": 6,
   "metadata": {},
   "outputs": [
    {
     "name": "stdout",
     "output_type": "stream",
     "text": [
      "720\n"
     ]
    }
   ],
   "source": [
    "print(i) # i는 선언도 안 하고? bitcoin[i]로는 안 되고?"
   ]
  },
  {
   "cell_type": "code",
   "execution_count": null,
   "metadata": {},
   "outputs": [],
   "source": [
    "# R example\n",
    "\"\"\"\n",
    "for i in c(1,3,5) { # 여기서도 첫번째, 두번째, ... 순차적으로 불러온다.\n",
    "    print(bitcoin[i])\n",
    "    }\n",
    "\"\"\""
   ]
  },
  {
   "cell_type": "code",
   "execution_count": 7,
   "metadata": {},
   "outputs": [
    {
     "name": "stdout",
     "output_type": "stream",
     "text": [
      "bitcoin\n",
      "ripple\n"
     ]
    }
   ],
   "source": [
    "# for와 딕셔너리\n",
    "\n",
    "coins = {\"bitcoin\": 8600000, \"ripple\": 750}\n",
    "\n",
    "for coin in coins:\n",
    "    print(coin)"
   ]
  },
  {
   "cell_type": "code",
   "execution_count": 8,
   "metadata": {},
   "outputs": [
    {
     "name": "stdout",
     "output_type": "stream",
     "text": [
      "bitcoin 8600000\n",
      "ripple 750\n"
     ]
    }
   ],
   "source": [
    "for k, v in coins.items():\n",
    "    print(k, v)"
   ]
  },
  {
   "cell_type": "code",
   "execution_count": 9,
   "metadata": {},
   "outputs": [
    {
     "data": {
      "text/plain": [
       "range(0, 10)"
      ]
     },
     "execution_count": 9,
     "metadata": {},
     "output_type": "execute_result"
    }
   ],
   "source": [
    "# range\n",
    "\n",
    "range(10) # list"
   ]
  },
  {
   "cell_type": "code",
   "execution_count": 10,
   "metadata": {},
   "outputs": [
    {
     "data": {
      "text/plain": [
       "range"
      ]
     },
     "execution_count": 10,
     "metadata": {},
     "output_type": "execute_result"
    }
   ],
   "source": [
    "type(range(10))"
   ]
  },
  {
   "cell_type": "code",
   "execution_count": 11,
   "metadata": {},
   "outputs": [
    {
     "name": "stdout",
     "output_type": "stream",
     "text": [
      "0\n",
      "1\n",
      "2\n",
      "3\n",
      "4\n"
     ]
    }
   ],
   "source": [
    "for i in range(5) : # list를 넣을 순 없다. range는 한 순간에 값을 하나만 준다\n",
    "    print(i)"
   ]
  },
  {
   "cell_type": "code",
   "execution_count": 12,
   "metadata": {},
   "outputs": [
    {
     "name": "stdout",
     "output_type": "stream",
     "text": [
      "0\n",
      "1\n",
      "2\n",
      "3\n",
      "4\n"
     ]
    }
   ],
   "source": [
    "for i in list(range(5)) : # 이렇게 하면 안 된다는 말\n",
    "    print(i)"
   ]
  },
  {
   "cell_type": "code",
   "execution_count": 13,
   "metadata": {},
   "outputs": [],
   "source": [
    "# for와 range\n",
    "\n",
    "tickers = ['BTC', 'XRP', 'LTC']"
   ]
  },
  {
   "cell_type": "code",
   "execution_count": 14,
   "metadata": {},
   "outputs": [
    {
     "name": "stdout",
     "output_type": "stream",
     "text": [
      "BTC\n",
      "XRP\n",
      "LTC\n"
     ]
    }
   ],
   "source": [
    "# 방법 1 - 리스트값 바로 불러오기\n",
    "for ticker in tickers:\n",
    "    print(ticker)"
   ]
  },
  {
   "cell_type": "code",
   "execution_count": 15,
   "metadata": {},
   "outputs": [
    {
     "name": "stdout",
     "output_type": "stream",
     "text": [
      "BTC\n",
      "XRP\n",
      "LTC\n"
     ]
    }
   ],
   "source": [
    "# 방법 2 - 인덱싱\n",
    "for i in range(len(tickers)):\n",
    "    ticker = tickers[i]\n",
    "    print(ticker)"
   ]
  },
  {
   "cell_type": "code",
   "execution_count": 16,
   "metadata": {},
   "outputs": [
    {
     "name": "stdout",
     "output_type": "stream",
     "text": [
      "Naver\n",
      "Samsung\n",
      "SK Hynix\n"
     ]
    }
   ],
   "source": [
    "# 연습문제\n",
    "    \n",
    "interest_stocks = [\"Naver\", \"Samsung\", \"SK Hynix\"]\n",
    "for i in interest_stocks :\n",
    "    print(i)"
   ]
  },
  {
   "cell_type": "code",
   "execution_count": 17,
   "metadata": {},
   "outputs": [
    {
     "name": "stdout",
     "output_type": "stream",
     "text": [
      "2000\n",
      "2400\n"
     ]
    }
   ],
   "source": [
    "prices = [300, 400, 2000, 2400]\n",
    "for i in prices :\n",
    "    if i > 1000 :\n",
    "        print(i)"
   ]
  },
  {
   "cell_type": "code",
   "execution_count": 18,
   "metadata": {},
   "outputs": [
    {
     "name": "stdout",
     "output_type": "stream",
     "text": [
      "2000\n",
      "2400\n"
     ]
    }
   ],
   "source": [
    "prices = [\"300\", \"400\", \"2000\", \"2400\"]\n",
    "for i in prices :\n",
    "    if len(i) >= 4 :\n",
    "        print(i)"
   ]
  },
  {
   "cell_type": "code",
   "execution_count": 19,
   "metadata": {},
   "outputs": [
    {
     "name": "stdout",
     "output_type": "stream",
     "text": [
      "1\n",
      "2\n",
      "3\n",
      "4\n",
      "5\n",
      "6\n",
      "7\n",
      "8\n",
      "9\n",
      "10\n",
      "11\n",
      "12\n",
      "13\n",
      "14\n",
      "15\n",
      "16\n",
      "17\n",
      "18\n",
      "19\n",
      "20\n"
     ]
    }
   ],
   "source": [
    "a = int(0)\n",
    "for i in range(20) : # range(19) 하면 안 되네?\n",
    "    a += 1\n",
    "    print(a)"
   ]
  },
  {
   "cell_type": "code",
   "execution_count": 20,
   "metadata": {},
   "outputs": [
    {
     "name": "stdout",
     "output_type": "stream",
     "text": [
      "79.0\n"
     ]
    }
   ],
   "source": [
    "A = [70, 60, 55, 75, 95, 90, 80, 80, 85, 100]\n",
    "sum = int()\n",
    "for i in A :\n",
    "    sum += i\n",
    "print(sum/len(A))"
   ]
  },
  {
   "cell_type": "markdown",
   "metadata": {},
   "source": [
    "# WHILE문"
   ]
  },
  {
   "cell_type": "code",
   "execution_count": null,
   "metadata": {},
   "outputs": [],
   "source": [
    "# loop의 횟수가 정해져있지 않을 때. 무한루프"
   ]
  },
  {
   "cell_type": "code",
   "execution_count": null,
   "metadata": {},
   "outputs": [],
   "source": [
    "while True :\n",
    "    print(\"수업중\")\n",
    "# Ctrl + C 로 잘 안 멈춘다!"
   ]
  },
  {
   "cell_type": "code",
   "execution_count": 21,
   "metadata": {},
   "outputs": [
    {
     "name": "stdout",
     "output_type": "stream",
     "text": [
      "1\n",
      "2\n",
      "3\n",
      "4\n",
      "5\n"
     ]
    }
   ],
   "source": [
    "for i in range(1, 6) :\n",
    "    print(i)"
   ]
  },
  {
   "cell_type": "code",
   "execution_count": 22,
   "metadata": {},
   "outputs": [
    {
     "name": "stdout",
     "output_type": "stream",
     "text": [
      "1\n",
      "2\n",
      "3\n",
      "4\n",
      "5\n"
     ]
    }
   ],
   "source": [
    "num = 1\n",
    "while num <= 5 :\n",
    "    print(num)\n",
    "    num += 1"
   ]
  },
  {
   "cell_type": "code",
   "execution_count": 23,
   "metadata": {},
   "outputs": [
    {
     "name": "stdout",
     "output_type": "stream",
     "text": [
      "37129.3\n"
     ]
    }
   ],
   "source": [
    "# 연습문제\n",
    "price = 10000\n",
    "day = 1\n",
    "while day <= 5 :\n",
    "    price *= 1.3\n",
    "    day += 1\n",
    "print(price)"
   ]
  },
  {
   "cell_type": "code",
   "execution_count": 24,
   "metadata": {},
   "outputs": [
    {
     "name": "stdout",
     "output_type": "stream",
     "text": [
      "14\n",
      "7\n",
      "8\n",
      "33\n",
      "3\n",
      "34\n"
     ]
    }
   ],
   "source": [
    "# lotto 자동번호 추출 \n",
    "# 1~45까지의 숫자 6개를 생성하기 \n",
    "# 숫자는 중복으로 생성될 수 없음\n",
    "\n",
    "import random\n",
    "\n",
    "for i in range(6) :\n",
    "    num = random.randint(1, 45)\n",
    "    print(num)\n",
    "# 중복 문제 해결 필요"
   ]
  },
  {
   "cell_type": "code",
   "execution_count": 25,
   "metadata": {},
   "outputs": [
    {
     "name": "stdout",
     "output_type": "stream",
     "text": [
      "[4, 43, 40, 18, 31, 30]\n"
     ]
    }
   ],
   "source": [
    "lotto = []\n",
    "for i in range(6) :\n",
    "    num = random.randint(1, 45)\n",
    "    if num not in lotto :\n",
    "        lotto.append(num)\n",
    "    else :\n",
    "        print(num)\n",
    "print(lotto)\n",
    "# 횟수 제한 문제가 남았다\n",
    "\n",
    "# while문으로 만들어보자!"
   ]
  },
  {
   "cell_type": "markdown",
   "metadata": {},
   "source": [
    "# 함수"
   ]
  },
  {
   "cell_type": "code",
   "execution_count": 26,
   "metadata": {},
   "outputs": [],
   "source": [
    "# 함수 정의\n",
    "def 별찍기() :\n",
    "    print(\"******\")"
   ]
  },
  {
   "cell_type": "code",
   "execution_count": 27,
   "metadata": {},
   "outputs": [
    {
     "data": {
      "text/plain": [
       "<function __main__.별찍기()>"
      ]
     },
     "execution_count": 27,
     "metadata": {},
     "output_type": "execute_result"
    }
   ],
   "source": [
    "별찍기"
   ]
  },
  {
   "cell_type": "code",
   "execution_count": 28,
   "metadata": {},
   "outputs": [
    {
     "name": "stdout",
     "output_type": "stream",
     "text": [
      "<function 별찍기 at 0x056B0A08>\n"
     ]
    }
   ],
   "source": [
    "print(별찍기) # '별찍기'는 코드의 메모리 위치를 저장"
   ]
  },
  {
   "cell_type": "code",
   "execution_count": 29,
   "metadata": {},
   "outputs": [
    {
     "name": "stdout",
     "output_type": "stream",
     "text": [
      "******\n"
     ]
    }
   ],
   "source": [
    "별찍기()"
   ]
  },
  {
   "cell_type": "code",
   "execution_count": 30,
   "metadata": {},
   "outputs": [],
   "source": [
    "def 별찍기(num) :\n",
    "    print(\"*\" * num)"
   ]
  },
  {
   "cell_type": "code",
   "execution_count": 31,
   "metadata": {},
   "outputs": [
    {
     "name": "stdout",
     "output_type": "stream",
     "text": [
      "***\n"
     ]
    }
   ],
   "source": [
    "별찍기(3)"
   ]
  },
  {
   "cell_type": "code",
   "execution_count": 32,
   "metadata": {},
   "outputs": [
    {
     "ename": "TypeError",
     "evalue": "별찍기() missing 1 required positional argument: 'num'",
     "output_type": "error",
     "traceback": [
      "\u001b[1;31m---------------------------------------------------------------------------\u001b[0m",
      "\u001b[1;31mTypeError\u001b[0m                                 Traceback (most recent call last)",
      "\u001b[1;32m<ipython-input-32-854a7fcbb139>\u001b[0m in \u001b[0;36m<module>\u001b[1;34m\u001b[0m\n\u001b[1;32m----> 1\u001b[1;33m \u001b[0m별찍기\u001b[0m\u001b[1;33m(\u001b[0m\u001b[1;33m)\u001b[0m \u001b[1;31m# TypeError: 별찍기() missing 1 required positional argument: 'num'\u001b[0m\u001b[1;33m\u001b[0m\u001b[1;33m\u001b[0m\u001b[0m\n\u001b[0m",
      "\u001b[1;31mTypeError\u001b[0m: 별찍기() missing 1 required positional argument: 'num'"
     ]
    }
   ],
   "source": [
    "별찍기() # TypeError: 별찍기() missing 1 required positional argument: 'num'"
   ]
  },
  {
   "cell_type": "code",
   "execution_count": 33,
   "metadata": {},
   "outputs": [
    {
     "name": "stdout",
     "output_type": "stream",
     "text": [
      "http://finance.naver.com/item/main.nhn?code=073240\n"
     ]
    }
   ],
   "source": [
    "# 코드가 여러 줄 되면 함수로 정의하자. 코드의 의미 알아보기 편하도록\n",
    "\n",
    "def generate_url(code):\n",
    "    url = \"http://finance.naver.com/item/main.nhn?code=\" + code\n",
    "    return url\n",
    "\n",
    "url =generate_url(\"073240\")     # 함수 호출 \n",
    "print(url)"
   ]
  },
  {
   "cell_type": "code",
   "execution_count": null,
   "metadata": {},
   "outputs": [],
   "source": [
    "codes = [\"000660\", \"039490\"]\n",
    "\n",
    "for code in codes:\n",
    "    url = generate_url(code)    # 종목 코드를 입력 받아 url를 생성\n",
    "    data = request_by_url(url)  # url로부터 데이터를 요청 : 여기선 미정의\n",
    "    print(data)"
   ]
  },
  {
   "cell_type": "code",
   "execution_count": 34,
   "metadata": {},
   "outputs": [
    {
     "data": {
      "text/plain": [
       "7"
      ]
     },
     "execution_count": 34,
     "metadata": {},
     "output_type": "execute_result"
    }
   ],
   "source": [
    "def hap(a, b):\n",
    "    t = a + b\n",
    "    return t\n",
    "\n",
    "hap(3, 4)"
   ]
  },
  {
   "cell_type": "code",
   "execution_count": 35,
   "metadata": {},
   "outputs": [
    {
     "data": {
      "text/plain": [
       "400"
      ]
     },
     "execution_count": 35,
     "metadata": {},
     "output_type": "execute_result"
    }
   ],
   "source": [
    "# 연습문제 1\n",
    "\n",
    "def mul(a, b) :\n",
    "    return a * b\n",
    "\n",
    "mul(100, 4)"
   ]
  },
  {
   "cell_type": "code",
   "execution_count": 36,
   "metadata": {},
   "outputs": [
    {
     "ename": "SyntaxError",
     "evalue": "invalid syntax (<ipython-input-36-898aed4aa4c0>, line 2)",
     "output_type": "error",
     "traceback": [
      "\u001b[1;36m  File \u001b[1;32m\"<ipython-input-36-898aed4aa4c0>\"\u001b[1;36m, line \u001b[1;32m2\u001b[0m\n\u001b[1;33m    def my_sum(list(a)) :\u001b[0m\n\u001b[1;37m                   ^\u001b[0m\n\u001b[1;31mSyntaxError\u001b[0m\u001b[1;31m:\u001b[0m invalid syntax\n"
     ]
    }
   ],
   "source": [
    "# ??????\n",
    "def my_sum(list(a)) :\n",
    "    return sum(a)\n",
    "\n",
    "my_sum([1,3])"
   ]
  },
  {
   "cell_type": "markdown",
   "metadata": {},
   "source": [
    "# Module"
   ]
  },
  {
   "cell_type": "code",
   "execution_count": null,
   "metadata": {},
   "outputs": [],
   "source": [
    "# 파이썬 소스 코드 파일이 바로 \"모듈\""
   ]
  },
  {
   "cell_type": "code",
   "execution_count": 37,
   "metadata": {},
   "outputs": [
    {
     "data": {
      "text/plain": [
       "datetime.datetime(2020, 2, 20, 1, 42, 48, 510983)"
      ]
     },
     "execution_count": 37,
     "metadata": {},
     "output_type": "execute_result"
    }
   ],
   "source": [
    "import datetime\n",
    "datetime.datetime.now()"
   ]
  },
  {
   "cell_type": "code",
   "execution_count": 38,
   "metadata": {},
   "outputs": [
    {
     "name": "stdout",
     "output_type": "stream",
     "text": [
      "2020-02-20 01:42:49.300543\n"
     ]
    }
   ],
   "source": [
    "now = datetime.datetime.now()\n",
    "now1 = str(now)\n",
    "print(now1)"
   ]
  },
  {
   "cell_type": "code",
   "execution_count": 39,
   "metadata": {},
   "outputs": [
    {
     "data": {
      "text/plain": [
       "'2'"
      ]
     },
     "execution_count": 39,
     "metadata": {},
     "output_type": "execute_result"
    }
   ],
   "source": [
    "now1[:1]"
   ]
  },
  {
   "cell_type": "code",
   "execution_count": 40,
   "metadata": {},
   "outputs": [],
   "source": [
    "import time\n",
    "time.sleep(1)"
   ]
  },
  {
   "cell_type": "code",
   "execution_count": null,
   "metadata": {},
   "outputs": [],
   "source": [
    "import time\n",
    "import datetime\n",
    "\n",
    "while True :\n",
    "    now = datetime.datetime.now()\n",
    "    print(now)\n",
    "    time.sleep(1)"
   ]
  },
  {
   "cell_type": "code",
   "execution_count": null,
   "metadata": {},
   "outputs": [],
   "source": [
    "# module importing 방법\n",
    "import os # os.listdir - 이 방법을 가장 선호. 모듈별로 이름 중복 가능성 때문\n",
    "from os import listdir # listdir\n",
    "from os import * # listdir\n",
    "import os as myos # myoslistdir - 이것도 가끔 쓴다\n",
    "\n",
    "# 남들이 주로 쓰는 import 방법을 쓰는 게 좋다\n",
    "# ex) import matplotlibpyplot as plt - 모두가 plt라고 쓰니까 나도 plt로"
   ]
  },
  {
   "cell_type": "code",
   "execution_count": 41,
   "metadata": {},
   "outputs": [
    {
     "ename": "ModuleNotFoundError",
     "evalue": "No module named 'mymodule'",
     "output_type": "error",
     "traceback": [
      "\u001b[1;31m---------------------------------------------------------------------------\u001b[0m",
      "\u001b[1;31mModuleNotFoundError\u001b[0m                       Traceback (most recent call last)",
      "\u001b[1;32m<ipython-input-41-b1ace92608aa>\u001b[0m in \u001b[0;36m<module>\u001b[1;34m\u001b[0m\n\u001b[0;32m      1\u001b[0m \u001b[1;31m# module을 만들어보자\u001b[0m\u001b[1;33m\u001b[0m\u001b[1;33m\u001b[0m\u001b[1;33m\u001b[0m\u001b[0m\n\u001b[0;32m      2\u001b[0m \u001b[1;33m\u001b[0m\u001b[0m\n\u001b[1;32m----> 3\u001b[1;33m \u001b[1;32mimport\u001b[0m \u001b[0mmymodule\u001b[0m\u001b[1;33m\u001b[0m\u001b[1;33m\u001b[0m\u001b[0m\n\u001b[0m\u001b[0;32m      4\u001b[0m \u001b[1;33m\u001b[0m\u001b[0m\n\u001b[0;32m      5\u001b[0m \u001b[0mmymodule\u001b[0m\u001b[1;33m.\u001b[0m\u001b[0mget_ma5\u001b[0m\u001b[1;33m(\u001b[0m\u001b[1;33m)\u001b[0m\u001b[1;33m\u001b[0m\u001b[1;33m\u001b[0m\u001b[0m\n",
      "\u001b[1;31mModuleNotFoundError\u001b[0m: No module named 'mymodule'"
     ]
    }
   ],
   "source": [
    "# module을 만들어보자\n",
    "\n",
    "import mymodule\n",
    "\n",
    "mymodule.get_ma5()"
   ]
  },
  {
   "cell_type": "code",
   "execution_count": 42,
   "metadata": {},
   "outputs": [
    {
     "name": "stdout",
     "output_type": "stream",
     "text": [
      "11870500\n"
     ]
    }
   ],
   "source": [
    "# 좀 더 좋은 모듈을 만들어보자\n",
    "\n",
    "import requests\n",
    "\n",
    "payload = {\"currency_pair\": \"btc_krw\"}\n",
    "url = \"https://api.korbit.co.kr/v1/ticker\"\n",
    "r = requests.get(url, params=payload)\n",
    "contents = r.json()\n",
    "price = contents['last']\n",
    "print(price)\n",
    "# https://api.korbit.co.kr/v1/ticker?currency_pair=btc_krw"
   ]
  },
  {
   "cell_type": "code",
   "execution_count": 43,
   "metadata": {},
   "outputs": [
    {
     "data": {
      "text/plain": [
       "'11870500'"
      ]
     },
     "execution_count": 43,
     "metadata": {},
     "output_type": "execute_result"
    }
   ],
   "source": [
    "# 함수로 선언해보자\n",
    "\n",
    "def get_last_price(ticker) :\n",
    "    payload = {\"currency_pair\": ticker}\n",
    "    url = \"https://api.korbit.co.kr/v1/ticker\"\n",
    "    r = requests.get(url, params=payload)\n",
    "    contents = r.json()\n",
    "    price = contents['last']\n",
    "    return price\n",
    "\n",
    "get_last_price(\"btc_krw\")"
   ]
  },
  {
   "cell_type": "code",
   "execution_count": 44,
   "metadata": {},
   "outputs": [
    {
     "data": {
      "text/plain": [
       "'347.5'"
      ]
     },
     "execution_count": 44,
     "metadata": {},
     "output_type": "execute_result"
    }
   ],
   "source": [
    "get_last_price(\"xrp_krw\")"
   ]
  },
  {
   "cell_type": "code",
   "execution_count": 45,
   "metadata": {},
   "outputs": [
    {
     "data": {
      "text/plain": [
       "'91250'"
      ]
     },
     "execution_count": 45,
     "metadata": {},
     "output_type": "execute_result"
    }
   ],
   "source": [
    "get_last_price(\"ltc_krw\")"
   ]
  },
  {
   "cell_type": "code",
   "execution_count": null,
   "metadata": {},
   "outputs": [],
   "source": [
    "# ma(5)를 구하는 모듈을 만들어보자\n",
    "import stock\n",
    "ma5([3,4,5,6,7,8,9])"
   ]
  },
  {
   "cell_type": "code",
   "execution_count": 46,
   "metadata": {},
   "outputs": [
    {
     "data": {
      "text/plain": [
       "['BTC',\n",
       " 'ETH',\n",
       " 'DASH',\n",
       " 'LTC',\n",
       " 'ETC',\n",
       " 'XRP',\n",
       " 'BCH',\n",
       " 'XMR',\n",
       " 'ZEC',\n",
       " 'QTUM',\n",
       " 'BTG',\n",
       " 'EOS',\n",
       " 'ICX',\n",
       " 'TRX',\n",
       " 'ELF',\n",
       " 'MCO',\n",
       " 'OMG',\n",
       " 'KNC',\n",
       " 'GNT',\n",
       " 'ZIL',\n",
       " 'WAXP',\n",
       " 'POWR',\n",
       " 'LRC',\n",
       " 'STEEM',\n",
       " 'STRAT',\n",
       " 'AE',\n",
       " 'ZRX',\n",
       " 'REP',\n",
       " 'XEM',\n",
       " 'SNT',\n",
       " 'ADA',\n",
       " 'PPT',\n",
       " 'CTXC',\n",
       " 'BAT',\n",
       " 'WTC',\n",
       " 'CMT',\n",
       " 'THETA',\n",
       " 'LOOM',\n",
       " 'WAVES',\n",
       " 'ITC',\n",
       " 'TRUE',\n",
       " 'LINK',\n",
       " 'RNT',\n",
       " 'ENJ',\n",
       " 'PLY',\n",
       " 'VET',\n",
       " 'MTL',\n",
       " 'INS',\n",
       " 'IOST',\n",
       " 'TMTG',\n",
       " 'QKC',\n",
       " 'BZNT',\n",
       " 'HDAC',\n",
       " 'NPXS',\n",
       " 'LBA',\n",
       " 'WET',\n",
       " 'AMO',\n",
       " 'BSV',\n",
       " 'APIS',\n",
       " 'DAC',\n",
       " 'ORBS',\n",
       " 'VALOR',\n",
       " 'CON',\n",
       " 'ANKR',\n",
       " 'MIX',\n",
       " 'LAMB',\n",
       " 'CRO',\n",
       " 'FX',\n",
       " 'CHR',\n",
       " 'MBL',\n",
       " 'MXC',\n",
       " 'FAB',\n",
       " 'OGO',\n",
       " 'DVP',\n",
       " 'FCT',\n",
       " 'FNB',\n",
       " 'FZZ',\n",
       " 'TRV',\n",
       " 'PCM',\n",
       " 'DAD',\n",
       " 'AOA',\n",
       " 'XSR',\n",
       " 'WOM',\n",
       " 'SOC',\n",
       " 'EM',\n",
       " 'WPX',\n",
       " 'FLETA',\n",
       " 'BNP',\n",
       " 'SXP',\n",
       " 'HC',\n",
       " 'BCD',\n",
       " 'XVG',\n",
       " 'XLM',\n",
       " 'PIVX',\n",
       " 'ETZ',\n",
       " 'GXC',\n",
       " 'BHP',\n",
       " 'BTT',\n",
       " 'HYC',\n",
       " 'IPX',\n",
       " 'WICC',\n",
       " 'LUNA']"
      ]
     },
     "execution_count": 46,
     "metadata": {},
     "output_type": "execute_result"
    }
   ],
   "source": [
    "import pybithumb # 모듈이 설치되어 있어야 함\n",
    "pybithumb.get_tickers()"
   ]
  }
 ],
 "metadata": {
  "kernelspec": {
   "display_name": "Python 3",
   "language": "python",
   "name": "python3"
  },
  "language_info": {
   "codemirror_mode": {
    "name": "ipython",
    "version": 3
   },
   "file_extension": ".py",
   "mimetype": "text/x-python",
   "name": "python",
   "nbconvert_exporter": "python",
   "pygments_lexer": "ipython3",
   "version": "3.7.4"
  }
 },
 "nbformat": 4,
 "nbformat_minor": 2
}
