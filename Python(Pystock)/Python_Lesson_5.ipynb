{
 "cells": [
  {
   "cell_type": "markdown",
   "metadata": {},
   "source": [
    "# pybithumb"
   ]
  },
  {
   "cell_type": "code",
   "execution_count": 1,
   "metadata": {},
   "outputs": [],
   "source": [
    "# pybithumb 설치 (Anaconda Prompt)\n",
    "# 처음 설치: pip install pybithumb\n",
    "# 업데이트 설치: pip install –U pybithumb\n",
    "# https://github.com/sharebook-kr/pybithumb"
   ]
  },
  {
   "cell_type": "code",
   "execution_count": 2,
   "metadata": {},
   "outputs": [],
   "source": [
    "# 시세 다운로드\n",
    "import pybithumb\n",
    "\n",
    "df = pybithumb.get_ohlcv(\"BTC\")\n",
    "df.to_excel(\"BTC.xlsx\")\n",
    "# root directory에 저장"
   ]
  },
  {
   "cell_type": "code",
   "execution_count": 3,
   "metadata": {},
   "outputs": [
    {
     "name": "stdout",
     "output_type": "stream",
     "text": [
      "11644000.0 <class 'float'>\n"
     ]
    }
   ],
   "source": [
    "# 현재가 얻기\n",
    "# pybithumb.get_current_price(ticker)\n",
    "\n",
    "import pybithumb\n",
    "import time\n",
    "\n",
    "cur_price = pybithumb.get_current_price(\"BTC\")\n",
    "print(cur_price, type(cur_price))"
   ]
  },
  {
   "cell_type": "code",
   "execution_count": 5,
   "metadata": {},
   "outputs": [
    {
     "name": "stdout",
     "output_type": "stream",
     "text": [
      "11644000.0\n",
      "11642000.0\n",
      "11642000.0\n",
      "11642000.0\n",
      "11642000.0\n"
     ]
    }
   ],
   "source": [
    "# 주기적으로 현재가 출력\n",
    "while True:\n",
    "    cur_price = pybithumb.get_current_price(\"BTC\")\n",
    "    print(cur_price)\n",
    "    time.sleep(0.5)"
   ]
  },
  {
   "cell_type": "code",
   "execution_count": 6,
   "metadata": {},
   "outputs": [
    {
     "name": "stdout",
     "output_type": "stream",
     "text": [
      "                           open       close        high         low  \\\n",
      "BTC                                                                   \n",
      "2020-02-19 00:00:00  11421000.0  11855000.0  11940000.0  11418000.0   \n",
      "2020-02-20 00:00:00  11858000.0  11460000.0  11959000.0  11350000.0   \n",
      "2020-02-21 00:00:00  11460000.0  11536000.0  11613000.0  11350000.0   \n",
      "2020-02-22 00:00:00  11536000.0  11489000.0  11591000.0  11397000.0   \n",
      "2020-02-23 21:00:00  11489000.0  11644000.0  11800000.0  11442000.0   \n",
      "\n",
      "                          volume  \n",
      "BTC                               \n",
      "2020-02-19 00:00:00  4498.708652  \n",
      "2020-02-20 00:00:00  5304.663821  \n",
      "2020-02-21 00:00:00  2789.747651  \n",
      "2020-02-22 00:00:00  1532.794772  \n",
      "2020-02-23 21:00:00  1891.742822  \n"
     ]
    }
   ],
   "source": [
    "# 최근 5일 시세만 출력\n",
    "df = pybithumb.get_ohlcv(\"BTC\")\n",
    "print(df.tail())    "
   ]
  },
  {
   "cell_type": "code",
   "execution_count": 7,
   "metadata": {},
   "outputs": [
    {
     "name": "stdout",
     "output_type": "stream",
     "text": [
      "11586000.0\n"
     ]
    }
   ],
   "source": [
    "# 변동성 돌파 전략 함수 (진입 목표가 계산)\n",
    "def cal_target(k=0.5):\n",
    "    df = pybithumb.get_ohlcv(\"BTC\")\n",
    "    yesterday = df.iloc[-2]\n",
    "    today = df.iloc[-1]\n",
    "\n",
    "    yesterday_high = yesterday['high']\n",
    "    yesterday_low = yesterday['low']\n",
    "    today_open = today['open']\n",
    "\n",
    "    yesterday_range = yesterday_high - yesterday_low\n",
    "    target = today_open + yesterday_range * k\n",
    "    return target\n",
    "\n",
    "target = cal_target()\n",
    "print(target)"
   ]
  },
  {
   "cell_type": "code",
   "execution_count": 8,
   "metadata": {},
   "outputs": [
    {
     "name": "stdout",
     "output_type": "stream",
     "text": [
      "(datetime.datetime(2020, 2, 24, 0, 0), datetime.datetime(2020, 2, 24, 0, 0, 10))\n"
     ]
    }
   ],
   "source": [
    "# 매일 자정 시각을 리턴하는 함수(00:00:00~00:00:10)\n",
    "\n",
    "import datetime\n",
    "\n",
    "def make_times():\n",
    "    now = datetime.datetime.now() # 현재 시각\n",
    "    tomorrow = now + datetime.timedelta(days=1) # 현재 시각 + 1D\n",
    "    midnight = datetime.datetime(year=tomorrow.year,\n",
    "                                 month=tomorrow.month,\n",
    "                                 day=tomorrow.day,\n",
    "                                 hour=0,\n",
    "                                 minute=0,\n",
    "                                 second=0)\n",
    "\n",
    "    midnight_after_10secs = midnight + datetime.timedelta(seconds=10)\n",
    "    return midnight, midnight_after_10secs # 튜플 하나로 간주하여 리턴\n",
    "\n",
    "print(make_times())"
   ]
  },
  {
   "cell_type": "code",
   "execution_count": 9,
   "metadata": {},
   "outputs": [
    {
     "name": "stdout",
     "output_type": "stream",
     "text": [
      "2020-02-23 21:40:29.138057 현재가 11643000.0 목표가 11586000.0\n",
      "2020-02-23 21:40:29.731485 현재가 11643000.0 목표가 11586000.0\n",
      "2020-02-23 21:40:30.346914 현재가 11643000.0 목표가 11586000.0\n",
      "2020-02-23 21:40:30.935322 현재가 11643000.0 목표가 11586000.0\n",
      "2020-02-23 21:40:31.555780 현재가 11643000.0 목표가 11586000.0\n"
     ]
    }
   ],
   "source": [
    "# 프로그램 기본 구조\n",
    "\n",
    "setup_time1, setup_time2 = make_times()\n",
    "target = cal_target(k=0.5)\n",
    "\n",
    "while True:\n",
    "    now = datetime.datetime.now()\n",
    "\n",
    "    if setup_time1 < now < setup_time2:\n",
    "        target = cal_target(k=0.5)\n",
    "        setup_time1, setup_time2 = make_times()\n",
    "        time.sleep(10)\n",
    "\n",
    "    cur_price = pybithumb.get_current_price(\"BTC\")\n",
    "    print(\"{} 현재가 {} 목표가 {}\".format(now, cur_price, target))\n",
    "\n",
    "    time.sleep(0.5)"
   ]
  },
  {
   "cell_type": "code",
   "execution_count": 10,
   "metadata": {},
   "outputs": [
    {
     "name": "stdout",
     "output_type": "stream",
     "text": [
      "<pybithumb.client.Bithumb object at 0x09513310>\n"
     ]
    }
   ],
   "source": [
    "# API Key 입력\n",
    "key = \"\"\n",
    "secret = \"\"\n",
    "# Input your private key\n",
    "\n",
    "bithumb = pybithumb.Bithumb(key, secret)\n",
    "print(bithumb)"
   ]
  },
  {
   "cell_type": "code",
   "execution_count": 11,
   "metadata": {},
   "outputs": [
    {
     "name": "stdout",
     "output_type": "stream",
     "text": [
      "(9e-06, 0.0, 0.95795, 0.0)\n"
     ]
    }
   ],
   "source": [
    "# 잔고 조회\n",
    "bithumb = pybithumb.Bithumb(key, secret)\n",
    "balance = bithumb.get_balance(\"ETH\")\n",
    "print(balance)"
   ]
  },
  {
   "cell_type": "code",
   "execution_count": 12,
   "metadata": {},
   "outputs": [
    {
     "name": "stdout",
     "output_type": "stream",
     "text": [
      "0.95795\n"
     ]
    }
   ],
   "source": [
    "krw_balance = balance[2]\n",
    "print(krw_balance)"
   ]
  },
  {
   "cell_type": "code",
   "execution_count": 13,
   "metadata": {},
   "outputs": [
    {
     "name": "stdout",
     "output_type": "stream",
     "text": [
      "0.375 11643000.0\n",
      "0.4935 11642000.0\n",
      "0.0125 11641000.0\n",
      "0.693 11640000.0\n",
      "0.299 11639000.0\n"
     ]
    }
   ],
   "source": [
    "# 매수 호가 조회\n",
    "import pybithumb\n",
    "\n",
    "orderbook = pybithumb.get_orderbook(\"BTC\")\n",
    "bids = orderbook['bids'] # 매도 호가 : 'asks'\n",
    "\n",
    "for bid in bids:\n",
    "    print(bid['quantity'], bid['price'])"
   ]
  },
  {
   "cell_type": "code",
   "execution_count": 14,
   "metadata": {},
   "outputs": [
    {
     "name": "stdout",
     "output_type": "stream",
     "text": [
      "{'status': '5600', 'message': '주문량이 사용가능 KRW을 초과하였습니다.'}\n"
     ]
    }
   ],
   "source": [
    "# 지정가 매수 주문\n",
    "ret = bithumb.buy_limit_order(\"XRP\", 500, 10)\n",
    "print(ret)"
   ]
  },
  {
   "cell_type": "code",
   "execution_count": 15,
   "metadata": {},
   "outputs": [],
   "source": [
    "# 주문 취소\n",
    "order_desc = bithumb.buy_limit_order(\"BTC\", 11000000, 1)\n",
    "status = bithumb.cancel_order(order_desc)"
   ]
  },
  {
   "cell_type": "code",
   "execution_count": 16,
   "metadata": {},
   "outputs": [
    {
     "name": "stdout",
     "output_type": "stream",
     "text": [
      "{'status': '5600', 'message': '주문량이 사용가능 KRW을 초과하였습니다.'}\n"
     ]
    }
   ],
   "source": [
    "# 시장가 매수 주문\n",
    "ret = bithumb.buy_market_order(\"XRP\", 10)\n",
    "print(ret)"
   ]
  },
  {
   "cell_type": "code",
   "execution_count": 17,
   "metadata": {},
   "outputs": [
    {
     "name": "stdout",
     "output_type": "stream",
     "text": [
      "{'status': '5500', 'message': 'Invalid Parameter'}\n"
     ]
    }
   ],
   "source": [
    "# 시장가 매도 주문\n",
    "# 1) 수량\n",
    "balance = bithumb.get_balance(\"XRP\")\n",
    "xrp_unit = balance[0]\n",
    "\n",
    "# 2) 매도\n",
    "ret = bithumb.sell_market_order(\"XRP\", xrp_unit)\n",
    "print(ret)"
   ]
  },
  {
   "cell_type": "code",
   "execution_count": 18,
   "metadata": {},
   "outputs": [
    {
     "name": "stdout",
     "output_type": "stream",
     "text": [
      "7300000\n"
     ]
    }
   ],
   "source": [
    "# 예외 처리\n",
    "mydict = {\"BTC\": 7300000, \"XRP\": 560}\n",
    "print(mydict[\"BTC\"])"
   ]
  },
  {
   "cell_type": "code",
   "execution_count": 19,
   "metadata": {},
   "outputs": [
    {
     "name": "stdout",
     "output_type": "stream",
     "text": [
      "error\n"
     ]
    }
   ],
   "source": [
    "try:\n",
    "    print(mydict[\"BTG\"])\n",
    "except:\n",
    "    print(\"error\")\n",
    "\n",
    "# https://wikidocs.net/30"
   ]
  },
  {
   "cell_type": "code",
   "execution_count": 20,
   "metadata": {},
   "outputs": [],
   "source": [
    "# 매수 함수 구현 : \n",
    "def try_buy(now, cur_price, target_price):\n",
    "    krw_balance = bithumb.get_balance(\"BTC\")[2]\n",
    "    \n",
    "    # 최우선 매도호가의 가격 얻기 \n",
    "    orderbook = pybithumb.get_current_price(\"BTC\")\n",
    "    asks = orderbook['asks']\n",
    "    price0 = asks[0]['price']\n",
    "    unit = krw_balance/price0\n",
    "    \n",
    "    if cur_price >= target_price:\n",
    "        bithumb.buy_market_order(\"BTC\", unit)"
   ]
  }
 ],
 "metadata": {
  "kernelspec": {
   "display_name": "Python 3",
   "language": "python",
   "name": "python3"
  },
  "language_info": {
   "codemirror_mode": {
    "name": "ipython",
    "version": 3
   },
   "file_extension": ".py",
   "mimetype": "text/x-python",
   "name": "python",
   "nbconvert_exporter": "python",
   "pygments_lexer": "ipython3",
   "version": "3.7.4"
  }
 },
 "nbformat": 4,
 "nbformat_minor": 2
}
