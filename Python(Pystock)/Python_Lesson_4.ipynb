{
 "cells": [
  {
   "cell_type": "markdown",
   "metadata": {},
   "source": [
    "# Crawling Stock Data"
   ]
  },
  {
   "cell_type": "code",
   "execution_count": 1,
   "metadata": {},
   "outputs": [],
   "source": [
    "import requests\n",
    "from bs4 import BeautifulSoup"
   ]
  },
  {
   "cell_type": "code",
   "execution_count": 2,
   "metadata": {},
   "outputs": [
    {
     "name": "stdout",
     "output_type": "stream",
     "text": [
      "<Response [200]>\n"
     ]
    }
   ],
   "source": [
    "# Downloading HTML : requests\n",
    "url = \"http://finance.naver.com/item/main.nhn?code=000660\"\n",
    "print(requests.get(url)) # Response라는 이름의 객체가 나온다"
   ]
  },
  {
   "cell_type": "code",
   "execution_count": 3,
   "metadata": {},
   "outputs": [],
   "source": [
    "html = requests.get(url).text\n",
    "# print(html) # the same with the original HTML code"
   ]
  },
  {
   "cell_type": "code",
   "execution_count": 4,
   "metadata": {},
   "outputs": [
    {
     "name": "stdout",
     "output_type": "stream",
     "text": [
      "[<em id=\"_dvr\">0.97</em>]\n"
     ]
    }
   ],
   "source": [
    "# Parsing : BS (BS class의 object 생성)\n",
    "soup = BeautifulSoup(html, \"html5lib\")\n",
    "tags = soup.select(\"#_dvr\")\n",
    "print(tags)"
   ]
  },
  {
   "cell_type": "code",
   "execution_count": 5,
   "metadata": {},
   "outputs": [
    {
     "name": "stdout",
     "output_type": "stream",
     "text": [
      "0.97 <class 'str'>\n"
     ]
    }
   ],
   "source": [
    "em_tag = tags[0]\n",
    "print(em_tag.text, type(em_tag.text))"
   ]
  },
  {
   "cell_type": "code",
   "execution_count": 6,
   "metadata": {},
   "outputs": [
    {
     "name": "stdout",
     "output_type": "stream",
     "text": [
      "[<em id=\"_per\">4.83</em>]\n"
     ]
    }
   ],
   "source": [
    "# Excersise : parsing PER\n",
    "soup = BeautifulSoup(html, \"html5lib\")\n",
    "tags = soup.select(\"#_per\")\n",
    "print(tags)"
   ]
  },
  {
   "cell_type": "code",
   "execution_count": 7,
   "metadata": {},
   "outputs": [
    {
     "name": "stdout",
     "output_type": "stream",
     "text": [
      "4.83 <class 'str'>\n"
     ]
    }
   ],
   "source": [
    "em_tag = tags[0]\n",
    "print(em_tag.text, type(em_tag.text))"
   ]
  },
  {
   "cell_type": "code",
   "execution_count": 8,
   "metadata": {},
   "outputs": [],
   "source": [
    "# Chrome에서 구하고자 하는 데이터 '검사' → Copy Selector\n",
    "# 단, BS에선 nth-child 지원하지 않으므로 다른 방법 찾아야"
   ]
  },
  {
   "cell_type": "code",
   "execution_count": 9,
   "metadata": {},
   "outputs": [
    {
     "name": "stdout",
     "output_type": "stream",
     "text": [
      "50.88%\n"
     ]
    }
   ],
   "source": [
    "# 외국인 소진율을 가져와보자\n",
    "tags = soup.select(\"#tab_con1 > div.gray > table > tbody > tr.strong > td > em\")\n",
    "#tags = soup.select(\"#tab_con1 > div:nth-of-type(2) > table > tbody > tr.strong > td > em\")\n",
    "print(tags[0].text)"
   ]
  },
  {
   "cell_type": "code",
   "execution_count": 10,
   "metadata": {},
   "outputs": [
    {
     "name": "stdout",
     "output_type": "stream",
     "text": [
      "6\n"
     ]
    }
   ],
   "source": [
    "# Default Argument\n",
    "\n",
    "def hap2(a, b=3):\n",
    "    return a + b\n",
    "\n",
    "ret = hap2(3)\n",
    "print(ret) # 6"
   ]
  },
  {
   "cell_type": "code",
   "execution_count": 11,
   "metadata": {},
   "outputs": [
    {
     "name": "stdout",
     "output_type": "stream",
     "text": [
      "9\n"
     ]
    }
   ],
   "source": [
    "ret2 = hap2(4, 5)\n",
    "print(ret2) # 9"
   ]
  },
  {
   "cell_type": "markdown",
   "metadata": {},
   "source": [
    "# Korbit API"
   ]
  },
  {
   "cell_type": "code",
   "execution_count": 12,
   "metadata": {},
   "outputs": [],
   "source": [
    "# https://apidocs.korbit.co.kr/ko/\n",
    "# https://api.korbit.co.kr/v1/ticker?currency_pair=btc_krw\n",
    "\n",
    "# * timestamp : 1970-01-01부터 기록\n",
    "# 대략 15억 정도면 초 단위\n",
    "# 15조 정도면 ms 단위\n",
    "\n",
    "# HTTP SET/POST 프로토콜"
   ]
  },
  {
   "cell_type": "code",
   "execution_count": 13,
   "metadata": {},
   "outputs": [
    {
     "name": "stdout",
     "output_type": "stream",
     "text": [
      "{\"timestamp\":1582457430496,\"last\":\"11703000\"} <class 'str'>\n"
     ]
    }
   ],
   "source": [
    "# KORBIT 최종 체결가\n",
    "\n",
    "import requests\n",
    "\n",
    "payload = {\"currency_pair\" :\"btc_krw\"}\n",
    "url = \"https://api.korbit.co.kr/v1/ticker\"\n",
    "\n",
    "r = requests.get(url, params=payload)\n",
    "print(r.text, type(r.text))"
   ]
  },
  {
   "cell_type": "code",
   "execution_count": 14,
   "metadata": {},
   "outputs": [
    {
     "name": "stdout",
     "output_type": "stream",
     "text": [
      "{'timestamp': 1582457430496, 'last': '11703000'} <class 'dict'>\n"
     ]
    }
   ],
   "source": [
    "# JSON to Dictionary\n",
    "contents = r.json()\n",
    "print(contents, type(contents))"
   ]
  },
  {
   "cell_type": "code",
   "execution_count": 15,
   "metadata": {},
   "outputs": [
    {
     "name": "stdout",
     "output_type": "stream",
     "text": [
      "비트코인 현재가 :  11703000\n"
     ]
    }
   ],
   "source": [
    "# 응용\n",
    "print('비트코인 현재가 : ', contents['last'])"
   ]
  },
  {
   "cell_type": "code",
   "execution_count": 16,
   "metadata": {},
   "outputs": [
    {
     "name": "stdout",
     "output_type": "stream",
     "text": [
      "2020-02-23 20:30:30.496000 <class 'datetime.datetime'>\n"
     ]
    }
   ],
   "source": [
    "# 시간 가져오기\n",
    "import datetime\n",
    "timestamp = contents['timestamp']\n",
    "cur_time = datetime.datetime.fromtimestamp(timestamp/1000) # ms to sec\n",
    "print(cur_time, type(cur_time))"
   ]
  },
  {
   "cell_type": "code",
   "execution_count": 17,
   "metadata": {},
   "outputs": [
    {
     "name": "stdout",
     "output_type": "stream",
     "text": [
      "{'currency_pair': ('btc_krw', 'bch_krw', 'etc_krw')} <class 'dict'>\n"
     ]
    }
   ],
   "source": [
    "# 연습문제 - 실패???\n",
    "pairs = (\"btc_krw\", \"bch_krw\", \"etc_krw\")\n",
    "payload = {\"currency_pair\" : pairs}\n",
    "print(payload, type(payload))"
   ]
  },
  {
   "cell_type": "code",
   "execution_count": 18,
   "metadata": {},
   "outputs": [
    {
     "name": "stdout",
     "output_type": "stream",
     "text": [
      "btc_krw {'timestamp': 1582457430496, 'last': '11703000'}\n",
      "bch_krw {'timestamp': 1582457430496, 'last': '11703000'}\n",
      "etc_krw {'timestamp': 1582457430496, 'last': '11703000'}\n"
     ]
    }
   ],
   "source": [
    "url = \"https://api.korbit.co.kr/v1/ticker\"\n",
    "\n",
    "r = requests.get(url, params=payload)\n",
    "\n",
    "for r in pairs : \n",
    "    print(r, contents)"
   ]
  },
  {
   "cell_type": "markdown",
   "metadata": {},
   "source": [
    "# Pandas"
   ]
  },
  {
   "cell_type": "code",
   "execution_count": 19,
   "metadata": {},
   "outputs": [],
   "source": [
    "# R의 dataframe 자료구조를 Python에 이식\n",
    "# 새롭지 않다!"
   ]
  },
  {
   "cell_type": "code",
   "execution_count": 20,
   "metadata": {},
   "outputs": [
    {
     "data": {
      "text/plain": [
       "[100, 200, 300, 100, 200, 300, 100, 200, 300]"
      ]
     },
     "execution_count": 20,
     "metadata": {},
     "output_type": "execute_result"
    }
   ],
   "source": [
    "from pandas import Series # 가장 많이 쓰는 importing 방법\n",
    "\n",
    "data = [100, 200, 300]\n",
    "data *3"
   ]
  },
  {
   "cell_type": "code",
   "execution_count": 21,
   "metadata": {},
   "outputs": [
    {
     "name": "stdout",
     "output_type": "stream",
     "text": [
      "0    100\n",
      "1    200\n",
      "2    300\n",
      "dtype: int64 <class 'pandas.core.series.Series'>\n"
     ]
    }
   ],
   "source": [
    "s = Series(data)\n",
    "print(s, type(s))"
   ]
  },
  {
   "cell_type": "code",
   "execution_count": 22,
   "metadata": {},
   "outputs": [
    {
     "name": "stdout",
     "output_type": "stream",
     "text": [
      "0    300\n",
      "1    600\n",
      "2    900\n",
      "dtype: int64\n"
     ]
    }
   ],
   "source": [
    "print(s * 3)"
   ]
  },
  {
   "cell_type": "code",
   "execution_count": 23,
   "metadata": {},
   "outputs": [
    {
     "name": "stdout",
     "output_type": "stream",
     "text": [
      "8286500\n"
     ]
    }
   ],
   "source": [
    "# index 부여\n",
    "\n",
    "s = Series([8286500, 8146000, 7430000, 7410000, 7433000],\n",
    "           index=['2018-04-13', '2018-04-12', '2018-04-11', '2018-04-10', '2018-04-09'])\n",
    "\n",
    "print(s[0])"
   ]
  },
  {
   "cell_type": "code",
   "execution_count": 24,
   "metadata": {},
   "outputs": [
    {
     "name": "stdout",
     "output_type": "stream",
     "text": [
      "8286500\n"
     ]
    }
   ],
   "source": [
    "print(s['2018-04-13'])"
   ]
  },
  {
   "cell_type": "code",
   "execution_count": 25,
   "metadata": {},
   "outputs": [
    {
     "name": "stdout",
     "output_type": "stream",
     "text": [
      "2018-04-13    8286500\n",
      "2018-04-11    7430000\n",
      "2018-04-09    7433000\n",
      "dtype: int64\n"
     ]
    }
   ],
   "source": [
    "print(s[[0,2,4]])"
   ]
  },
  {
   "cell_type": "code",
   "execution_count": 26,
   "metadata": {},
   "outputs": [
    {
     "name": "stdout",
     "output_type": "stream",
     "text": [
      "2018-04-13    8286500\n",
      "2018-04-12    8146000\n",
      "2018-04-11    7430000\n",
      "dtype: int64\n"
     ]
    }
   ],
   "source": [
    "print(s['2018-04-13':'2018-04-11'])"
   ]
  },
  {
   "cell_type": "code",
   "execution_count": 27,
   "metadata": {},
   "outputs": [
    {
     "name": "stdout",
     "output_type": "stream",
     "text": [
      "   open  high  low  close\n",
      "0   100   110   90     95\n",
      "1    90   112   80     85\n",
      "2    80    90   70     75\n",
      "3    70    80   60     63\n"
     ]
    }
   ],
   "source": [
    "# Dataframe 생성\n",
    "\n",
    "from pandas import DataFrame\n",
    "\n",
    "raw_data = {'open': [100, 90, 80, 70],\n",
    "        'high': [110, 112, 90, 80],\n",
    "        'low' : [90, 80, 70, 60],\n",
    "        'close': [95, 85, 75, 63]}\n",
    "df = DataFrame(raw_data)\n",
    "print(df)"
   ]
  },
  {
   "cell_type": "code",
   "execution_count": 28,
   "metadata": {},
   "outputs": [
    {
     "name": "stdout",
     "output_type": "stream",
     "text": [
      "   open  high  low  close\n",
      "0   100   110   90     95\n",
      "1    90   112   80     85\n",
      "2    80    90   70     75\n",
      "3    70    80   60     63\n"
     ]
    }
   ],
   "source": [
    "df = DataFrame(raw_data, columns=['open', 'high', 'low', 'close'])\n",
    "print(df)\n",
    "# 파이썬 3.7 이전 버전에선 딕셔너리에 순서 존재 X, 따로 지정해주면 좋다."
   ]
  },
  {
   "cell_type": "code",
   "execution_count": 29,
   "metadata": {},
   "outputs": [],
   "source": [
    "# 엑셀로 보내기\n",
    "df.to_excel(\"dump.xlsx\")\n",
    "# saved at root directory"
   ]
  },
  {
   "cell_type": "code",
   "execution_count": 30,
   "metadata": {},
   "outputs": [
    {
     "name": "stdout",
     "output_type": "stream",
     "text": [
      "            open  high  low  close\n",
      "2018-04-14   100   110   90     95\n",
      "2018-04-13    90   112   80     85\n",
      "2018-04-12    80    90   70     75\n",
      "2018-04-11    70    80   60     63\n"
     ]
    }
   ],
   "source": [
    "# 날짜는 날짜데이터로 넣자\n",
    "# 아래 예시는 날짜를 datetime으로 받아오는 과정이 더 필요함\n",
    "date_list = ['2018-04-14', '2018-04-13', '2018-04-12', '2018-04-11']\n",
    "df = DataFrame(raw_data, columns=['open', 'high', 'low', 'close'], index=date_list)\n",
    "print(df)"
   ]
  },
  {
   "cell_type": "code",
   "execution_count": 31,
   "metadata": {},
   "outputs": [
    {
     "name": "stdout",
     "output_type": "stream",
     "text": [
      "2018-04-14    100\n",
      "2018-04-13     90\n",
      "2018-04-12     80\n",
      "2018-04-11     70\n",
      "Name: open, dtype: int64\n"
     ]
    }
   ],
   "source": [
    "print(df['open'])"
   ]
  },
  {
   "cell_type": "code",
   "execution_count": 32,
   "metadata": {},
   "outputs": [
    {
     "name": "stdout",
     "output_type": "stream",
     "text": [
      "            open  close\n",
      "2018-04-14   100     95\n",
      "2018-04-13    90     85\n",
      "2018-04-12    80     75\n",
      "2018-04-11    70     63\n"
     ]
    }
   ],
   "source": [
    "print(df[['open', 'close']])"
   ]
  },
  {
   "cell_type": "code",
   "execution_count": null,
   "metadata": {},
   "outputs": [],
   "source": [
    "df04 = df['2018-04'] # 이 상태로는 실행 X\n",
    "df04.iloc[0] # work well on Spyder"
   ]
  },
  {
   "cell_type": "code",
   "execution_count": 34,
   "metadata": {},
   "outputs": [
    {
     "name": "stdout",
     "output_type": "stream",
     "text": [
      "2018-12-02 00:00:00 <class 'datetime.datetime'>\n"
     ]
    }
   ],
   "source": [
    "# datetime.strptime()\n",
    "import datetime\n",
    "\n",
    "date = '2018-12-02'\n",
    "\n",
    "date2 = datetime.datetime.strptime(date, '%Y-%m-%d')\n",
    "print(date2, type(date2))"
   ]
  },
  {
   "cell_type": "markdown",
   "metadata": {},
   "source": [
    "# pybithumb"
   ]
  },
  {
   "cell_type": "code",
   "execution_count": 35,
   "metadata": {},
   "outputs": [
    {
     "name": "stdout",
     "output_type": "stream",
     "text": [
      "                           open       close        high         low  \\\n",
      "BTC                                                                   \n",
      "2013-12-27 00:00:00    737000.0    755000.0    755000.0    737000.0   \n",
      "2013-12-28 00:00:00    750000.0    750000.0    750000.0    750000.0   \n",
      "2013-12-29 00:00:00    750000.0    739000.0    750000.0    728000.0   \n",
      "2013-12-30 00:00:00    740000.0    768000.0    772000.0    740000.0   \n",
      "2013-12-31 00:00:00    768000.0    768000.0    800000.0    763000.0   \n",
      "...                         ...         ...         ...         ...   \n",
      "2020-02-19 00:00:00  11421000.0  11855000.0  11940000.0  11418000.0   \n",
      "2020-02-20 00:00:00  11858000.0  11460000.0  11959000.0  11350000.0   \n",
      "2020-02-21 00:00:00  11460000.0  11536000.0  11613000.0  11350000.0   \n",
      "2020-02-22 00:00:00  11536000.0  11489000.0  11591000.0  11397000.0   \n",
      "2020-02-23 20:00:00  11489000.0  11709000.0  11800000.0  11442000.0   \n",
      "\n",
      "                          volume  \n",
      "BTC                               \n",
      "2013-12-27 00:00:00     3.780000  \n",
      "2013-12-28 00:00:00    12.000000  \n",
      "2013-12-29 00:00:00    19.058000  \n",
      "2013-12-30 00:00:00     9.488973  \n",
      "2013-12-31 00:00:00    18.650350  \n",
      "...                          ...  \n",
      "2020-02-19 00:00:00  4498.708652  \n",
      "2020-02-20 00:00:00  5304.663821  \n",
      "2020-02-21 00:00:00  2789.747651  \n",
      "2020-02-22 00:00:00  1532.794772  \n",
      "2020-02-23 20:00:00  1723.834504  \n",
      "\n",
      "[2160 rows x 5 columns]\n"
     ]
    }
   ],
   "source": [
    "# Anaconda Prompt에서\n",
    "# python -m pip install Pybithumb -- upgrade pip\n",
    "\n",
    "import pybithumb\n",
    "\n",
    "df = pybithumb.get_ohlcv(\"BTC\")\n",
    "print(df)"
   ]
  },
  {
   "cell_type": "code",
   "execution_count": 36,
   "metadata": {},
   "outputs": [
    {
     "name": "stdout",
     "output_type": "stream",
     "text": [
      "                 open      close       high        low       volume\n",
      "BTC                                                                \n",
      "2018-12-02  4742000.0  4710000.0  4848000.0  4613000.0  3660.440148\n"
     ]
    }
   ],
   "source": [
    "print(df['2018-12-02'])"
   ]
  }
 ],
 "metadata": {
  "kernelspec": {
   "display_name": "Python 3",
   "language": "python",
   "name": "python3"
  },
  "language_info": {
   "codemirror_mode": {
    "name": "ipython",
    "version": 3
   },
   "file_extension": ".py",
   "mimetype": "text/x-python",
   "name": "python",
   "nbconvert_exporter": "python",
   "pygments_lexer": "ipython3",
   "version": "3.7.4"
  }
 },
 "nbformat": 4,
 "nbformat_minor": 2
}
